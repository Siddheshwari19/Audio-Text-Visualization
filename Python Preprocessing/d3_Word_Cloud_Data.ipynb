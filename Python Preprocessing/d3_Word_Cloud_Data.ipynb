{
 "cells": [
  {
   "cell_type": "code",
   "execution_count": 1,
   "metadata": {},
   "outputs": [],
   "source": [
    "from IPython.display import display\n",
    "from pattern.text.en import singularize\n",
    "import pandas as pd\n",
    "import re\n",
    "from nltk.corpus import stopwords\n",
    "stopwords = sorted(set(stopwords.words('english')))\n",
    "from operator import itemgetter\n",
    "\n",
    "pd.set_option(\"display.max_rows\", 10)\n",
    "df = pd.read_csv(\"Transcript_Data/transcript.csv\", usecols=[\"start_time\", \"end_time\", \"speaker_label\", \"text\"])"
   ]
  },
  {
   "cell_type": "code",
   "execution_count": 2,
   "metadata": {},
   "outputs": [],
   "source": [
    "def topWordsDict(str):\n",
    "    dic = {}\n",
    "    for item in str.split():\n",
    "        if item in dic:\n",
    "            dic[item] += 5\n",
    "        else:\n",
    "            dic[item] = 5\n",
    "    return dict(sorted(dic.items(), key=itemgetter(1), reverse=True)[:15])"
   ]
  },
  {
   "cell_type": "code",
   "execution_count": 3,
   "metadata": {},
   "outputs": [
    {
     "name": "stdout",
     "output_type": "stream",
     "text": [
      "\"how_does_shooting_a_gun_make_u_feel.txt\" : [{'gun': 130, 'like': 80, 'person': 70, 'right': 50, 'think': 50, 'shooting': 45, 'firearm': 35, 'life': 35, 'feel': 30, 'give': 30, 'guy': 30, 'second': 30, 'time': 30, 'would': 30, 'amendment': 25}]\n",
      "\"MassShootings.txt\" : [{'person': 75, 'firearm': 70, 'background': 55, 'need': 55, 'thing': 55, 'think': 55, 'check': 50, 'right': 45, 'way': 40, 'get': 35, 'gun': 35, 'health': 35, 'school': 35, 'go': 30, 'kid': 30}]\n",
      "\"OwningGunsForSelfDefense.txt\" : [{'polouse': 115, 'person': 90, 'gun': 75, 'officer': 60, 'think': 60, 'lot': 55, 'community': 50, 'cop': 50, 'like': 50, 'want': 50, 'school': 45, 'going': 40, 'need': 40, 'know': 35, 'make': 35}]\n",
      "\"RedFlagLaws.txt\" : [{'think': 125, 'gun': 110, 'person': 100, 'law': 70, 'need': 45, 'right': 45, 'going': 40, 'lot': 40, 'question': 35, 'flag': 30, 'red': 30, 'situation': 30, 'well': 30, 'firearm': 25, 'state': 25}]\n",
      "\"RestrictionOnSpecificGuns.txt\" : [{'ar': 110, 'person': 80, 'rifle': 70, 'handgun': 45, 'like': 35, 'two': 35, 'defend': 30, 'life': 30, 'right': 30, 'think': 30, 'would': 30, 'get': 25, 'gun': 25, 'need': 25, 'round': 25}]\n",
      "\"SummarySpokenInAudio.txt\" : [{'gun': 150, 'person': 75, 'think': 75, 'violence': 55, 'fact': 45, 'like': 40, 'really': 40, 'industry': 30, 'solution': 30, 'actually': 25, 'community': 25, 'firearm': 25, 'heard': 25, 'need': 25, 'problem': 25}]\n"
     ]
    }
   ],
   "source": [
    "import re\n",
    "\n",
    "file_list = [\n",
    "    \"how_does_shooting_a_gun_make_u_feel.txt\",\n",
    "    \"MassShootings.txt\",\n",
    "    \"OwningGunsForSelfDefense.txt\",\n",
    "    \"RedFlagLaws.txt\",\n",
    "    \"RestrictionOnSpecificGuns.txt\",\n",
    "    \"SummarySpokenInAudio.txt\"\n",
    "    ]\n",
    "\n",
    "for filename in file_list:\n",
    "    content_string = \"\"\n",
    "    with open(f\"Transcript_Data/{filename}\", \"r+\", encoding='utf-16') as file1:\n",
    "        content_string = file1.read()\n",
    "        file1.close()\n",
    "    # print(content_string)\n",
    "    content_string = re.sub(r'[^A-Za-z0-9 -]+', ' ', content_string.lower())\n",
    "    # print(content_string)\n",
    "    content_array = [\n",
    "        # word\n",
    "        singularize(word)\n",
    "        for word in sorted(content_string.split())\n",
    "        if len(word) > 1 and not word.isdigit() and word not in stopwords\n",
    "    ]\n",
    "    # print(content_array)\n",
    "    # print(filename)\n",
    "    content_string =  ' '.join(content_array)\n",
    "    print(f\"\\\"{filename}\\\" : [{topWordsDict(content_string)}]\")"
   ]
  },
  {
   "cell_type": "code",
   "execution_count": 4,
   "metadata": {},
   "outputs": [
    {
     "name": "stdout",
     "output_type": "stream",
     "text": [
      "\"Narrator\" : [{'gun': 175, 'think': 110, 'person': 85, 'like': 55, 'feel': 45, 'know': 45, 'want': 45, 'lot': 40, 'really': 40, 'shooting': 40, 'hand': 30, 'idea': 30, 'keep': 30, 'law': 30, 'country': 25}]\n",
      "\"Speaker 1\" : [{'need': 45, 'polouse': 40, 'time': 40, 'gun': 35, 'like': 35, 'thing': 35, 'guy': 30, 'know': 30, 'school': 30, 'lot': 25, 'make': 25, 'security': 25, 'tell': 25, 'two': 25, 'defend': 20}]\n",
      "\"Speaker 2\" : [{'think': 90, 'gun': 80, 'life': 60, 'right': 55, 'violence': 55, 'get': 50, 'would': 50, 'really': 45, 'know': 40, 'like': 40, 'person': 40, 'situation': 35, 'firearm': 30, 'home': 30, 'law': 30}]\n",
      "\"Speaker 3\" : [{'person': 75, 'gun': 45, 'know': 45, 'cop': 30, 'right': 30, 'go': 25, 'like': 25, 'one': 25, 'polouse': 25, 'firearm': 20, 'get': 20, 'going': 20, 'lot': 20, 'need': 20, 'say': 20}]\n",
      "\"Speaker 4\" : [{'person': 75, 'like': 50, 'give': 45, 'going': 40, 'polouse': 40, 'right': 40, 'community': 35, 'firearm': 30, 'gun': 30, 'know': 30, 'need': 30, 'well': 30, 'school': 25, 'go': 20, 'officer': 20}]\n",
      "\"Speaker 5\" : [{'person': 50, 'like': 35, 'want': 35, 'community': 20, 'everything': 20, 'gun': 20, 'make': 20, 'need': 20, 'saying': 20, 'think': 20, 'way': 20, 'back': 15, 'else': 15, 'everyone': 15, 'feel': 15}]\n",
      "\"Speaker 6\" : [{'firearm': 70, 'person': 65, 'rifle': 55, 'handgun': 50, 'right': 45, 'think': 45, 'ar-15': 35, 'gun': 35, 'defend': 30, 'know': 25, 'life': 25, 'lot': 25, 'ok': 25, 'say': 25, 'well': 25}]\n",
      "\"Speaker 7\" : [{'gun': 110, 'think': 70, 'fact': 55, 'know': 40, 'person': 40, 'violence': 35, 'industry': 30, 'need': 30, 'state': 30, 'america': 25, 'question': 25, 'united': 25, 'u': 25, 'introduced': 20, 'self': 20}]\n",
      "\"Speaker 8\" : [{'gun': 55, 'like': 45, 'person': 40, 'lot': 30, 'problem': 25, 'america': 20, 'everyone': 20, 'really': 20, 'scarcity': 20, 'american': 15, 'concerned': 15, 'country': 15, 'survival': 15, 'actually': 10, 'care': 10}]\n"
     ]
    }
   ],
   "source": [
    "speaker_list = sorted(set(df[\"speaker_label\"]))\n",
    "\n",
    "for speaker in speaker_list:\n",
    "    contentBySpeaker = df[df[\"speaker_label\"] == speaker][\"text\"].str.cat(sep=' ')\n",
    "    contentBySpeaker = re.sub(r'[^A-Za-z0-9 -]+', ' ', contentBySpeaker.lower())\n",
    "\n",
    "    content_array = [\n",
    "        singularize(word)\n",
    "        for word in sorted(contentBySpeaker.split())\n",
    "        if len(word) > 1 and not word.isdigit() and word not in stopwords\n",
    "    ]\n",
    "    content_string =  ' '.join(content_array)\n",
    "    # print(speaker)\n",
    "    print(f\"\\\"{speaker}\\\" : [{topWordsDict(content_string)}]\")"
   ]
  },
  {
   "cell_type": "code",
   "execution_count": 5,
   "metadata": {},
   "outputs": [
    {
     "name": "stdout",
     "output_type": "stream",
     "text": [
      "\"All\" : [{'gun': 117, 'person': 98, 'think': 81, 'like': 63, 'know': 54, 'right': 44, 'need': 43, 'firearm': 36, 'lot': 32, 'really': 32, 'polouse': 31, 'thing': 26, 'violence': 26, 'law': 25, 'one': 25}]\n"
     ]
    }
   ],
   "source": [
    "def topWordsDict(str):\n",
    "    dic = {}\n",
    "    for item in str.split():\n",
    "        if item in dic:\n",
    "            dic[item] += 1\n",
    "        else:\n",
    "            dic[item] = 1\n",
    "    return dict(sorted(dic.items(), key=itemgetter(1), reverse=True)[:15])\n",
    "\n",
    "\n",
    "content = df[\"text\"].str.cat(sep=' ')\n",
    "content = re.sub(r'[^A-Za-z0-9 -]+', ' ', content.lower())\n",
    "\n",
    "content_array = [\n",
    "    singularize(word)\n",
    "    for word in sorted(content.split())\n",
    "    if len(word) > 1 and not word.isdigit() and word not in stopwords\n",
    "]\n",
    "content_string =  ' '.join(content_array)\n",
    "print(f\"\\\"All\\\" : [{topWordsDict(content_string)}]\")"
   ]
  }
 ],
 "metadata": {
  "kernelspec": {
   "display_name": "Python 3",
   "language": "python",
   "name": "python3"
  },
  "language_info": {
   "codemirror_mode": {
    "name": "ipython",
    "version": 3
   },
   "file_extension": ".py",
   "mimetype": "text/x-python",
   "name": "python",
   "nbconvert_exporter": "python",
   "pygments_lexer": "ipython3",
   "version": "3.11.1"
  },
  "orig_nbformat": 4
 },
 "nbformat": 4,
 "nbformat_minor": 2
}
